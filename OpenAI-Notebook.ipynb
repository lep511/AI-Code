{
 "cells": [
  {
   "cell_type": "code",
   "execution_count": null,
   "id": "8501610e-525a-464d-ba65-f08a789a2718",
   "metadata": {
    "tags": []
   },
   "outputs": [],
   "source": [
    "pip install openai"
   ]
  },
  {
   "cell_type": "code",
   "execution_count": 1,
   "id": "9ff7f573-31af-4dde-a2b2-d9ebc14d694d",
   "metadata": {},
   "outputs": [],
   "source": [
    "import os\n",
    "import openai"
   ]
  },
  {
   "cell_type": "code",
   "execution_count": null,
   "id": "a1ea3802",
   "metadata": {},
   "outputs": [],
   "source": [
    "openai.api_key = os.getenv(\"OPENAI_API_KEY\")"
   ]
  },
  {
   "cell_type": "markdown",
   "id": "f9098a28-2d4f-4911-a154-2c231fcf3902",
   "metadata": {},
   "source": [
    "## Generate a docstring for function"
   ]
  },
  {
   "cell_type": "code",
   "execution_count": 58,
   "id": "61907cde-75de-4a7e-9b81-c0a26d7dff2f",
   "metadata": {},
   "outputs": [],
   "source": [
    "def ai_function(text_function):\n",
    "    response = openai.Completion.create(\n",
    "      model=\"text-davinci-002\",\n",
    "      prompt=text_function,\n",
    "      temperature=0,\n",
    "      max_tokens=260,\n",
    "      top_p=1,\n",
    "      frequency_penalty=0,\n",
    "      presence_penalty=0,\n",
    "      stop=[\"#\", \"\\\"\\\"\\\"\"]\n",
    "    )\n",
    "    text_out = response[\"choices\"][0][\"text\"]\n",
    "    print(text_out)\n",
    "    return"
   ]
  },
  {
   "cell_type": "code",
   "execution_count": 56,
   "id": "349290a9-abee-4490-a196-977ab26ab69b",
   "metadata": {},
   "outputs": [],
   "source": [
    "prompt=\"\"\"# Python 3.7\n",
    " \n",
    "def randomly_split_dataset(folder, filename, split_ratio=[0.8, 0.2]):\n",
    "    df = pd.read_json(folder + filename, lines=True)\n",
    "    train_name, test_name = \"train.jsonl\", \"test.jsonl\"\n",
    "    df_train, df_test = train_test_split(df, test_size=split_ratio[1], random_state=42)\n",
    "    df_train.to_json(folder + train_name, orient='records', lines=True)\n",
    "    df_test.to_json(folder + test_name, orient='records', lines=True)\n",
    "randomly_split_dataset('finetune_data/', 'dataset.jsonl')\n",
    "    \n",
    "# An elaborate, high quality docstring for the above function:\n",
    "\"\"\""
   ]
  },
  {
   "cell_type": "code",
   "execution_count": 60,
   "id": "1e5d910f-3ce9-4ed9-a2ab-25b5c772c14f",
   "metadata": {},
   "outputs": [
    {
     "name": "stdout",
     "output_type": "stream",
     "text": [
      "\n",
      "'''\n",
      "This function takes in a folder name and a filename, and randomly splits the dataset into train and test sets.\n",
      "\n",
      "Parameters\n",
      "----------\n",
      "folder : str\n",
      "    The name of the folder containing the dataset.\n",
      "filename : str\n",
      "    The name of the dataset file.\n",
      "split_ratio : list\n",
      "    The ratio of train to test sets.\n",
      "\n",
      "Returns\n",
      "-------\n",
      "None\n",
      "\n",
      "Example\n",
      "-------\n",
      ">>> randomly_split_dataset('finetune_data/', 'dataset.jsonl')\n",
      "'''\n"
     ]
    }
   ],
   "source": [
    "ai_function(prompt)"
   ]
  },
  {
   "cell_type": "markdown",
   "id": "cbca4906-1754-4ea7-a2a8-93902db4fdc3",
   "metadata": {},
   "source": [
    "## Python bug fixer"
   ]
  },
  {
   "cell_type": "code",
   "execution_count": 61,
   "id": "8ed7c9c9-c615-45e2-8943-b2b620975865",
   "metadata": {},
   "outputs": [],
   "source": [
    "prompt = \"\"\"##### Fix bugs in the below function\n",
    " \n",
    "### Buggy Python\n",
    "import Random\n",
    "a = random.randint(1,12)\n",
    "b = random.randint(1,12)\n",
    "for i in range(10):\n",
    "    question = \"What is \"+a+\" x \"+b+\"? \"\n",
    "    answer = input(question)\n",
    "    if answer = a*b\n",
    "        print (Well done!)\n",
    "    else:\n",
    "        print(\"No.\")\n",
    "    \n",
    "### Fixed Python\n",
    "\"\"\""
   ]
  },
  {
   "cell_type": "code",
   "execution_count": 62,
   "id": "753f1ef8-2e63-4a05-982b-23cfdf0e7978",
   "metadata": {},
   "outputs": [
    {
     "name": "stdout",
     "output_type": "stream",
     "text": [
      "import random\n",
      "a = random.randint(1,12)\n",
      "b = random.randint(1,12)\n",
      "for i in range(10):\n",
      "    question = \"What is \"+str(a)+\" x \"+str(b)+\"? \"\n",
      "    answer = input(question)\n",
      "    if answer == str(a*b):\n",
      "        print (\"Well done!\")\n",
      "    else:\n",
      "        print(\"No.\")\n"
     ]
    }
   ],
   "source": [
    "ai_function(prompt)"
   ]
  },
  {
   "cell_type": "markdown",
   "id": "7c69a058-e055-45ec-afcc-ab25e9636cb1",
   "metadata": {},
   "source": [
    "## JavaScript to Python"
   ]
  },
  {
   "cell_type": "code",
   "execution_count": 72,
   "id": "c9cdc7ec-2bae-4ef3-ae01-f56bb2e09038",
   "metadata": {},
   "outputs": [],
   "source": [
    "prompt=\"\"\"#JavaScript to Python:\n",
    "JavaScript: \n",
    "dogs = [\"bill\", \"joe\", \"carl\"]\n",
    "car = []\n",
    "dogs.forEach((dog) {\n",
    "    car.push(dog);\n",
    "});\n",
    "\n",
    "Python:\n",
    "\"\"\""
   ]
  },
  {
   "cell_type": "code",
   "execution_count": 73,
   "id": "673b1c0e-b3d5-4971-9eda-b434cc9db21f",
   "metadata": {},
   "outputs": [
    {
     "name": "stdout",
     "output_type": "stream",
     "text": [
      "\n",
      "dogs = [\"bill\", \"joe\", \"carl\"]\n",
      "car = []\n",
      "for dog in dogs:\n",
      "    car.append(dog)\n"
     ]
    }
   ],
   "source": [
    "ai_function(prompt)"
   ]
  },
  {
   "cell_type": "markdown",
   "id": "34cc796d-627d-41e0-a069-2711ef68ff61",
   "metadata": {},
   "source": [
    "## SQL translate"
   ]
  },
  {
   "cell_type": "code",
   "execution_count": 74,
   "id": "040a1c40-8262-49bb-8903-617a4617079f",
   "metadata": {},
   "outputs": [],
   "source": [
    "prompt=\"\"\"### Postgres SQL tables, with their properties:\n",
    "#\n",
    "# Employee(id, name, department_id)\n",
    "# Department(id, name, address)\n",
    "# Salary_Payments(id, employee_id, amount, date)\n",
    "#\n",
    "### A query to list the names of the departments which employed more than 10 employees in the last 3 months\n",
    "SELECT\n",
    "\"\"\""
   ]
  },
  {
   "cell_type": "code",
   "execution_count": 75,
   "id": "52c087f4-75e3-4f69-a61e-94dae791ac07",
   "metadata": {},
   "outputs": [
    {
     "name": "stdout",
     "output_type": "stream",
     "text": [
      "    d.name\n",
      "FROM\n",
      "    Department d\n",
      "    JOIN Employee e ON d.id = e.department_id\n",
      "    JOIN Salary_Payments sp ON e.id = sp.employee_id\n",
      "WHERE\n",
      "    sp.date >= DATE_SUB(CURDATE(), INTERVAL 3 MONTH)\n",
      "GROUP BY\n",
      "    d.name\n",
      "HAVING\n",
      "    COUNT(*) > 10\n"
     ]
    }
   ],
   "source": [
    "ai_function(prompt)"
   ]
  },
  {
   "cell_type": "markdown",
   "id": "e28893e0-16b7-441f-a251-bb305ce3ab4a",
   "metadata": {},
   "source": [
    "## Explain Code"
   ]
  },
  {
   "cell_type": "code",
   "execution_count": 78,
   "id": "082c7cfb-2f96-46fd-abb1-255063ebee36",
   "metadata": {},
   "outputs": [],
   "source": [
    "prompt=\"\"\"class Log:\n",
    "    def __init__(self, path):\n",
    "        dirname = os.path.dirname(path)\n",
    "        os.makedirs(dirname, exist_ok=True)\n",
    "        f = open(path, \"a+\")\n",
    "\n",
    "        # Check that the file is newline-terminated\n",
    "        size = os.path.getsize(path)\n",
    "        if size > 0:\n",
    "            f.seek(size - 1)\n",
    "            end = f.read(1)\n",
    "            if end != \"\\n\":\n",
    "                f.write(\"\\n\")\n",
    "        self.f = f\n",
    "        self.path = path\n",
    "\n",
    "    def log(self, event):\n",
    "        event[\"_event_id\"] = str(uuid.uuid4())\n",
    "        json.dump(event, self.f)\n",
    "        self.f.write(\"\\n\")\n",
    "\n",
    "    def state(self):\n",
    "        state = {\"complete\": set(), \"last\": None}\n",
    "        for line in open(self.path):\n",
    "            event = json.loads(line)\n",
    "            if event[\"type\"] == \"submit\" and event[\"success\"]:\n",
    "                state[\"complete\"].add(event[\"id\"])\n",
    "                state[\"last\"] = event\n",
    "        return state\n",
    "\n",
    "# Explain code\n",
    "Here's what the above class is doing:\n",
    "\"\"\""
   ]
  },
  {
   "cell_type": "code",
   "execution_count": 79,
   "id": "dbaeb83a-0c96-44f3-b86a-be38daaaf993",
   "metadata": {},
   "outputs": [
    {
     "name": "stdout",
     "output_type": "stream",
     "text": [
      "\n",
      "1. It creates a directory for the log file if it doesn't exist.\n",
      "2. It opens the log file in append mode.\n",
      "3. It checks that the log file ends with a newline.\n",
      "4. It creates a UUID for each event.\n",
      "5. It dumps the event to the log file as JSON.\n",
      "6. It appends a newline to the log file.\n",
      "7. It reads the log file and returns a dictionary with the set of completed events and the last event.\n",
      "\n",
      "\n"
     ]
    }
   ],
   "source": [
    "ai_function(prompt)"
   ]
  }
 ],
 "metadata": {
  "kernelspec": {
   "display_name": "Python 3 (ipykernel)",
   "language": "python",
   "name": "python3"
  },
  "language_info": {
   "codemirror_mode": {
    "name": "ipython",
    "version": 3
   },
   "file_extension": ".py",
   "mimetype": "text/x-python",
   "name": "python",
   "nbconvert_exporter": "python",
   "pygments_lexer": "ipython3",
   "version": "3.9.13"
  }
 },
 "nbformat": 4,
 "nbformat_minor": 5
}
